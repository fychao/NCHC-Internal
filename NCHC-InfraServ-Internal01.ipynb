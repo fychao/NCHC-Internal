{
 "cells": [
  {
   "cell_type": "markdown",
   "metadata": {},
   "source": [
    "# 教材\n",
    "- 李宏毅 https://www.slideshare.net/tw_dsconf/ss-62245351"
   ]
  },
  {
   "cell_type": "code",
   "execution_count": 2,
   "metadata": {},
   "outputs": [
    {
     "name": "stdout",
     "output_type": "stream",
     "text": [
      "\u001b[33mThe directory '/workspace/.cache/pip/http' or its parent directory is not owned by the current user and the cache has been disabled. Please check the permissions and owner of that directory. If executing pip with sudo, you may want sudo's -H flag.\u001b[0m\n",
      "\u001b[33mThe directory '/workspace/.cache/pip' or its parent directory is not owned by the current user and caching wheels has been disabled. check the permissions and owner of that directory. If executing pip with sudo, you may want sudo's -H flag.\u001b[0m\n",
      "Collecting keras\n",
      "\u001b[?25l  Downloading https://files.pythonhosted.org/packages/34/7d/b1dedde8af99bd82f20ed7e9697aac0597de3049b1f786aa2aac3b9bd4da/Keras-2.2.2-py2.py3-none-any.whl (299kB)\n",
      "\u001b[K    100% |████████████████████████████████| 307kB 2.7MB/s ta 0:00:01\n",
      "\u001b[?25hRequirement already satisfied: scipy>=0.14 in /usr/local/lib/python2.7/dist-packages (from keras) (1.0.1)\n",
      "Collecting keras-preprocessing==1.0.2 (from keras)\n",
      "  Downloading https://files.pythonhosted.org/packages/71/26/1e778ebd737032749824d5cba7dbd3b0cf9234b87ab5ec79f5f0403ca7e9/Keras_Preprocessing-1.0.2-py2.py3-none-any.whl\n",
      "Requirement already satisfied: numpy>=1.9.1 in /usr/local/lib/python2.7/dist-packages (from keras) (1.15.1)\n",
      "Requirement already satisfied: six>=1.9.0 in /usr/local/lib/python2.7/dist-packages (from keras) (1.11.0)\n",
      "Collecting keras-applications==1.0.4 (from keras)\n",
      "\u001b[?25l  Downloading https://files.pythonhosted.org/packages/54/90/8f327deaa37a71caddb59b7b4aaa9d4b3e90c0e76f8c2d1572005278ddc5/Keras_Applications-1.0.4-py2.py3-none-any.whl (43kB)\n",
      "\u001b[K    100% |████████████████████████████████| 51kB 2.8MB/s ta 0:00:01\n",
      "\u001b[?25hCollecting pyyaml (from keras)\n",
      "Collecting h5py (from keras)\n",
      "\u001b[?25l  Downloading https://files.pythonhosted.org/packages/33/0c/1c5dfa85e05052aa5f50969d87c67a2128dc39a6f8ce459a503717e56bd0/h5py-2.8.0-cp27-cp27mu-manylinux1_x86_64.whl (2.7MB)\n",
      "\u001b[K    100% |████████████████████████████████| 2.7MB 3.8MB/s ta 0:00:01\n",
      "\u001b[?25hInstalling collected packages: keras-preprocessing, h5py, keras-applications, pyyaml, keras\n",
      "Successfully installed h5py-2.8.0 keras-2.2.2 keras-applications-1.0.4 keras-preprocessing-1.0.2 pyyaml-3.13\n"
     ]
    }
   ],
   "source": [
    "!sudo pip install keras"
   ]
  },
  {
   "cell_type": "markdown",
   "metadata": {},
   "source": [
    "# MNIST MLP\n",
    "- Reference https://github.com/keras-team/keras/blob/master/examples/mnist_mlp.py"
   ]
  },
  {
   "cell_type": "code",
   "execution_count": 3,
   "metadata": {},
   "outputs": [
    {
     "name": "stderr",
     "output_type": "stream",
     "text": [
      "Using TensorFlow backend.\n"
     ]
    },
    {
     "name": "stdout",
     "output_type": "stream",
     "text": [
      "Downloading data from https://s3.amazonaws.com/img-datasets/mnist.npz\n",
      "11493376/11490434 [==============================] - 16s 1us/step\n",
      "11501568/11490434 [==============================] - 16s 1us/step\n"
     ]
    }
   ],
   "source": [
    "import keras\n",
    "from keras.datasets import mnist\n",
    "from keras.models import Sequential\n",
    "from keras.layers import Dense, Dropout\n",
    "from keras.optimizers import RMSprop\n",
    "\n",
    "batch_size = 128\n",
    "num_classes = 10\n",
    "epochs = 20\n",
    "\n",
    "# the data, split between train and test sets\n",
    "(x_train, y_train), (x_test, y_test) = mnist.load_data()"
   ]
  },
  {
   "cell_type": "code",
   "execution_count": 4,
   "metadata": {},
   "outputs": [
    {
     "data": {
      "text/plain": [
       "(60000, 28, 28)"
      ]
     },
     "execution_count": 4,
     "metadata": {},
     "output_type": "execute_result"
    }
   ],
   "source": [
    "x_train.shape"
   ]
  },
  {
   "cell_type": "code",
   "execution_count": 5,
   "metadata": {},
   "outputs": [
    {
     "data": {
      "text/plain": [
       "(60000,)"
      ]
     },
     "execution_count": 5,
     "metadata": {},
     "output_type": "execute_result"
    }
   ],
   "source": [
    "y_train.shape"
   ]
  },
  {
   "cell_type": "code",
   "execution_count": 6,
   "metadata": {},
   "outputs": [
    {
     "name": "stdout",
     "output_type": "stream",
     "text": [
      "(60000, 'train samples')\n",
      "(10000, 'test samples')\n"
     ]
    }
   ],
   "source": [
    "x_train = x_train.reshape(60000, 784)\n",
    "x_test = x_test.reshape(10000, 784)\n",
    "x_train = x_train.astype('float32')\n",
    "x_test = x_test.astype('float32')\n",
    "x_train /= 255\n",
    "x_test /= 255\n",
    "print(x_train.shape[0], 'train samples')\n",
    "print(x_test.shape[0], 'test samples')"
   ]
  },
  {
   "cell_type": "code",
   "execution_count": 7,
   "metadata": {},
   "outputs": [
    {
     "name": "stdout",
     "output_type": "stream",
     "text": [
      "_________________________________________________________________\n",
      "Layer (type)                 Output Shape              Param #   \n",
      "=================================================================\n",
      "dense_1 (Dense)              (None, 512)               401920    \n",
      "_________________________________________________________________\n",
      "dropout_1 (Dropout)          (None, 512)               0         \n",
      "_________________________________________________________________\n",
      "dense_2 (Dense)              (None, 512)               262656    \n",
      "_________________________________________________________________\n",
      "dropout_2 (Dropout)          (None, 512)               0         \n",
      "_________________________________________________________________\n",
      "dense_3 (Dense)              (None, 10)                5130      \n",
      "=================================================================\n",
      "Total params: 669,706\n",
      "Trainable params: 669,706\n",
      "Non-trainable params: 0\n",
      "_________________________________________________________________\n"
     ]
    }
   ],
   "source": [
    "# convert class vectors to binary class matrices\n",
    "y_train = keras.utils.to_categorical(y_train, num_classes)\n",
    "y_test = keras.utils.to_categorical(y_test, num_classes)\n",
    "\n",
    "model = Sequential()\n",
    "model.add(Dense(512, activation='relu', input_shape=(784,)))\n",
    "model.add(Dropout(0.2))\n",
    "model.add(Dense(512, activation='relu'))\n",
    "model.add(Dropout(0.2))\n",
    "model.add(Dense(num_classes, activation='softmax'))\n",
    "\n",
    "model.summary()"
   ]
  },
  {
   "cell_type": "code",
   "execution_count": 8,
   "metadata": {},
   "outputs": [],
   "source": [
    "model.compile(loss='categorical_crossentropy',\n",
    "              optimizer=RMSprop(),\n",
    "              metrics=['accuracy'])\n"
   ]
  },
  {
   "cell_type": "code",
   "execution_count": 9,
   "metadata": {},
   "outputs": [
    {
     "name": "stdout",
     "output_type": "stream",
     "text": [
      "Train on 60000 samples, validate on 10000 samples\n",
      "Epoch 1/20\n",
      "60000/60000 [==============================] - 7s 119us/step - loss: 0.2445 - acc: 0.9244 - val_loss: 0.1249 - val_acc: 0.9620\n",
      "Epoch 2/20\n",
      "60000/60000 [==============================] - 3s 44us/step - loss: 0.1019 - acc: 0.9691 - val_loss: 0.0934 - val_acc: 0.9710\n",
      "Epoch 3/20\n",
      "60000/60000 [==============================] - 3s 45us/step - loss: 0.0750 - acc: 0.9778 - val_loss: 0.0753 - val_acc: 0.9791\n",
      "Epoch 4/20\n",
      "60000/60000 [==============================] - 3s 44us/step - loss: 0.0610 - acc: 0.9819 - val_loss: 0.0760 - val_acc: 0.9794\n",
      "Epoch 5/20\n",
      "60000/60000 [==============================] - 3s 45us/step - loss: 0.0495 - acc: 0.9846 - val_loss: 0.0933 - val_acc: 0.9758\n",
      "Epoch 6/20\n",
      "60000/60000 [==============================] - 3s 44us/step - loss: 0.0432 - acc: 0.9869 - val_loss: 0.0792 - val_acc: 0.9817\n",
      "Epoch 7/20\n",
      "60000/60000 [==============================] - 3s 44us/step - loss: 0.0380 - acc: 0.9890 - val_loss: 0.0778 - val_acc: 0.9821\n",
      "Epoch 8/20\n",
      "60000/60000 [==============================] - 3s 44us/step - loss: 0.0362 - acc: 0.9894 - val_loss: 0.0777 - val_acc: 0.9822\n",
      "Epoch 9/20\n",
      "60000/60000 [==============================] - 3s 44us/step - loss: 0.0343 - acc: 0.9900 - val_loss: 0.0904 - val_acc: 0.9805\n",
      "Epoch 10/20\n",
      "60000/60000 [==============================] - 3s 46us/step - loss: 0.0302 - acc: 0.9912 - val_loss: 0.0845 - val_acc: 0.9827\n",
      "Epoch 11/20\n",
      "60000/60000 [==============================] - 3s 45us/step - loss: 0.0272 - acc: 0.9919 - val_loss: 0.0908 - val_acc: 0.9818\n",
      "Epoch 12/20\n",
      "60000/60000 [==============================] - 3s 43us/step - loss: 0.0265 - acc: 0.9924 - val_loss: 0.1022 - val_acc: 0.9813\n",
      "Epoch 13/20\n",
      "60000/60000 [==============================] - 3s 44us/step - loss: 0.0249 - acc: 0.9930 - val_loss: 0.0983 - val_acc: 0.9815\n",
      "Epoch 14/20\n",
      "60000/60000 [==============================] - 3s 44us/step - loss: 0.0238 - acc: 0.9936 - val_loss: 0.1167 - val_acc: 0.9809\n",
      "Epoch 15/20\n",
      "60000/60000 [==============================] - 3s 44us/step - loss: 0.0230 - acc: 0.9938 - val_loss: 0.0936 - val_acc: 0.9834\n",
      "Epoch 16/20\n",
      "60000/60000 [==============================] - 3s 43us/step - loss: 0.0215 - acc: 0.9941 - val_loss: 0.1125 - val_acc: 0.9834\n",
      "Epoch 17/20\n",
      "60000/60000 [==============================] - 3s 44us/step - loss: 0.0213 - acc: 0.9948 - val_loss: 0.1079 - val_acc: 0.9834\n",
      "Epoch 18/20\n",
      "60000/60000 [==============================] - 3s 43us/step - loss: 0.0208 - acc: 0.9945 - val_loss: 0.1073 - val_acc: 0.9834\n",
      "Epoch 19/20\n",
      "60000/60000 [==============================] - 3s 44us/step - loss: 0.0186 - acc: 0.9952 - val_loss: 0.1162 - val_acc: 0.9826\n",
      "Epoch 20/20\n",
      "60000/60000 [==============================] - 3s 44us/step - loss: 0.0194 - acc: 0.9952 - val_loss: 0.1115 - val_acc: 0.9824\n"
     ]
    }
   ],
   "source": [
    "history = model.fit(x_train, y_train,\n",
    "                    batch_size=batch_size,\n",
    "                    epochs=epochs,\n",
    "                    verbose=1,\n",
    "                    validation_data=(x_test, y_test))"
   ]
  },
  {
   "cell_type": "code",
   "execution_count": 10,
   "metadata": {},
   "outputs": [
    {
     "name": "stdout",
     "output_type": "stream",
     "text": [
      "('Test loss:', 0.11154534595558874)\n",
      "('Test accuracy:', 0.9824)\n"
     ]
    }
   ],
   "source": [
    "score = model.evaluate(x_test, y_test, verbose=0)\n",
    "print('Test loss:', score[0])\n",
    "print('Test accuracy:', score[1])"
   ]
  },
  {
   "cell_type": "markdown",
   "metadata": {},
   "source": [
    "- http://yann.lecun.com/exdb/mnist/"
   ]
  },
  {
   "cell_type": "code",
   "execution_count": null,
   "metadata": {},
   "outputs": [],
   "source": []
  }
 ],
 "metadata": {
  "kernelspec": {
   "display_name": "Python 2",
   "language": "python",
   "name": "python2"
  },
  "language_info": {
   "codemirror_mode": {
    "name": "ipython",
    "version": 2
   },
   "file_extension": ".py",
   "mimetype": "text/x-python",
   "name": "python",
   "nbconvert_exporter": "python",
   "pygments_lexer": "ipython2",
   "version": "2.7.12"
  }
 },
 "nbformat": 4,
 "nbformat_minor": 2
}
